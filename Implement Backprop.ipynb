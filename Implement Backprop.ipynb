{
 "cells": [
  {
   "cell_type": "code",
   "execution_count": 1,
   "metadata": {},
   "outputs": [],
   "source": [
    "#initialize a network\n",
    "from random import seed, random\n",
    "def init_net(n_in, n_h, n_out):\n",
    "    net = list()\n",
    "    hidden = [{'weights':[random() for i in range(n_in+1)]} for i in range(n_h)]\n",
    "    net.append(hidden)\n",
    "    out = [{'weights':[random() for i in range(n_h+1)]} for i in range(n_out)]\n",
    "    net.append(out)\n",
    "    return net"
   ]
  },
  {
   "cell_type": "code",
   "execution_count": 2,
   "metadata": {},
   "outputs": [
    {
     "name": "stdout",
     "output_type": "stream",
     "text": [
      "[{'weights': [0.5859471434981559, 0.16731979887911075, 0.05065492000086447]}]\n",
      "[{'weights': [0.20228693015527477, 0.3660296229628127]}, {'weights': [0.263287319778291, 0.18189775591004853]}]\n"
     ]
    }
   ],
   "source": [
    "#test \n",
    "net = init_net(2,1,2)\n",
    "for layer in net:\n",
    "    print(layer)"
   ]
  },
  {
   "cell_type": "code",
   "execution_count": 3,
   "metadata": {},
   "outputs": [],
   "source": [
    "#defining the forward propagation\n",
    "\n",
    "import math\n",
    "\n",
    "def activate(weights, inputs):\n",
    "    activation = weights[-1]\n",
    "    for i in range(len(weights)-1):\n",
    "        activation += weights[i] * inputs[i]\n",
    "    return activation\n",
    "\n",
    "def sigmoid(activation):\n",
    "    return 1.0 / (1.0 + math.exp(-activation))\n",
    "\n",
    "def forwardprop(net, row):\n",
    "    inputs = row\n",
    "    for layer in net:\n",
    "        new_inputs = []\n",
    "        for neuron in layer:\n",
    "            activation = activate(neuron['weights'], inputs)\n",
    "            neuron['output'] = sigmoid(activation)\n",
    "            new_inputs.append(neuron['output'])\n",
    "        inputs = new_inputs\n",
    "    return inputs"
   ]
  },
  {
   "cell_type": "code",
   "execution_count": 4,
   "metadata": {},
   "outputs": [
    {
     "name": "stdout",
     "output_type": "stream",
     "text": [
      "[0.6220649682488409, 0.5876075140707483]\n"
     ]
    }
   ],
   "source": [
    "#test \n",
    "row = [1, 0, None]\n",
    "out = forwardprop(net, row)\n",
    "print(out)"
   ]
  },
  {
   "cell_type": "code",
   "execution_count": 5,
   "metadata": {},
   "outputs": [],
   "source": [
    "#the backprop step\n",
    "\n",
    "def grad(output):\n",
    "    return output * (1 - output)\n",
    "\n",
    "def backprop(net, actual):\n",
    "    for i in reversed(range(len(net))):\n",
    "        layer = net[i]\n",
    "        errors = list()\n",
    "        if i != len(net) - 1:\n",
    "            for j in range(len(layer)):\n",
    "                error = 0.0\n",
    "                for neuron in net[i+1]:\n",
    "                    error += (neuron['weights'][j] * neuron['delta'])\n",
    "                    errors.append(error)\n",
    "        else:\n",
    "            for j in range(len(layer)):\n",
    "                neuron = layer[j]\n",
    "                errors.append(actual[j] - neuron['output'])\n",
    "        for j in range(len(layer)):\n",
    "            neuron = layer[j]\n",
    "            neuron['delta'] = errors[j] * grad(neuron['output'])"
   ]
  },
  {
   "cell_type": "code",
   "execution_count": 6,
   "metadata": {},
   "outputs": [
    {
     "name": "stdout",
     "output_type": "stream",
     "text": [
      "[{'weights': [0.5859471434981559, 0.16731979887911075, 0.05065492000086447], 'output': 0.6539849490406724, 'delta': 0.004067247597055389}]\n",
      "[{'weights': [0.20228693015527477, 0.3660296229628127], 'output': 0.6220649682488409, 'delta': 0.08885258020835561}, {'weights': [0.263287319778291, 0.18189775591004853], 'output': 0.5876075140707483, 'delta': -0.14239194588249382}]\n"
     ]
    }
   ],
   "source": [
    "net = net\n",
    "actual = [1, 0]\n",
    "backprop(net, actual)\n",
    "for layer in net:\n",
    "    print(layer)"
   ]
  },
  {
   "cell_type": "code",
   "execution_count": 7,
   "metadata": {},
   "outputs": [],
   "source": [
    "#update weights with error\n",
    "\n",
    "def update(net, row, lr):\n",
    "    for i in range(len(net)):\n",
    "        inputs = row[:-1]\n",
    "        if i != 0:\n",
    "            inputs = [neuron['output'] for neuron in net[i-1]]\n",
    "        for neuron in net[i]:\n",
    "            for j in range(len(inputs)):\n",
    "                neuron['weights'][j] += lr * neuron['delta'] * inputs[j]\n",
    "            neuron['weights'][-1] += lr * neuron['delta']"
   ]
  },
  {
   "cell_type": "code",
   "execution_count": 8,
   "metadata": {},
   "outputs": [],
   "source": [
    "#train the network\n",
    "def train_net(net, train, lr, n_epochs, n_out):\n",
    "    for epoch in range(n_epochs):\n",
    "        sum_err = 0\n",
    "        for row in train:\n",
    "            outputs = forwardprop(net, row)\n",
    "            actual = [0 for i in range(n_out)]\n",
    "            actual[row[-1]] = 1\n",
    "            sum_err += sum([(actual[i] - outputs[i])**2 for i in range(len(actual))])\n",
    "            backprop(net, actual)\n",
    "            update(net, row, lr)\n",
    "        print('>epoch=%d, lr=%.3f, error=%.3f' %(epoch, lr, sum_err))"
   ]
  },
  {
   "cell_type": "code",
   "execution_count": 9,
   "metadata": {},
   "outputs": [
    {
     "name": "stdout",
     "output_type": "stream",
     "text": [
      ">epoch=0, lr=0.500, error=6.557\n",
      ">epoch=1, lr=0.500, error=5.788\n",
      ">epoch=2, lr=0.500, error=5.471\n",
      ">epoch=3, lr=0.500, error=5.247\n",
      ">epoch=4, lr=0.500, error=4.959\n",
      ">epoch=5, lr=0.500, error=4.559\n",
      ">epoch=6, lr=0.500, error=4.063\n",
      ">epoch=7, lr=0.500, error=3.644\n",
      ">epoch=8, lr=0.500, error=3.265\n",
      ">epoch=9, lr=0.500, error=2.921\n",
      ">epoch=10, lr=0.500, error=2.614\n",
      ">epoch=11, lr=0.500, error=2.342\n",
      ">epoch=12, lr=0.500, error=2.101\n",
      ">epoch=13, lr=0.500, error=1.890\n",
      ">epoch=14, lr=0.500, error=1.704\n",
      ">epoch=15, lr=0.500, error=1.542\n",
      ">epoch=16, lr=0.500, error=1.401\n",
      ">epoch=17, lr=0.500, error=1.277\n",
      ">epoch=18, lr=0.500, error=1.168\n",
      ">epoch=19, lr=0.500, error=1.072\n",
      ">epoch=20, lr=0.500, error=0.988\n",
      ">epoch=21, lr=0.500, error=0.914\n",
      ">epoch=22, lr=0.500, error=0.848\n",
      ">epoch=23, lr=0.500, error=0.790\n",
      ">epoch=24, lr=0.500, error=0.738\n",
      "[{'weights': [-1.0688168018974102, 1.1746707843745887, 0.9537546538571334], 'output': 0.046573917451740936, 'delta': -0.0029823446074322218}, {'weights': [-1.2863332733023307, 1.5902666365509557, 0.8371550105763554], 'output': 0.035848869919398445, 'delta': -0.004497903181369408}]\n",
      "[{'weights': [1.9885009112715535, 1.7791966381138766, -1.5210819081544955], 'output': 0.2062387840093791, 'delta': -0.033762185664384006}, {'weights': [-1.6490146322373893, -1.8761518215649844, 1.420713813103535], 'output': 0.778596425680403, 'delta': 0.03816644075144251}]\n"
     ]
    }
   ],
   "source": [
    "dataset = [[2.7810836,2.550537003,0],\n",
    "    [1.465489372,2.362125076,0],\n",
    "    [3.396561688,4.400293529,0],\n",
    "    [1.38807019,1.850220317,0],\n",
    "    [3.06407232,3.005305973,0],\n",
    "    [7.627531214,2.759262235,1],\n",
    "    [5.332441248,2.088626775,1],\n",
    "    [6.922596716,1.77106367,1],\n",
    "    [8.675418651,-0.242068655,1],\n",
    "    [7.673756466,3.508563011,1]]\n",
    "n_in = len(dataset[0]) - 1\n",
    "n_out = len(set([row[-1] for row in dataset]))\n",
    "net = init_net(n_in, 2, n_out)\n",
    "train_net(net, dataset, 0.5, 25, n_out)\n",
    "for layer in net:\n",
    "    print(layer)"
   ]
  },
  {
   "cell_type": "code",
   "execution_count": 14,
   "metadata": {},
   "outputs": [],
   "source": [
    "# Make a prediction with a network\n",
    "def predict(network, row):\n",
    "    outputs = forwardprop(net, row)\n",
    "    return outputs.index(max(outputs))"
   ]
  },
  {
   "cell_type": "code",
   "execution_count": 15,
   "metadata": {},
   "outputs": [
    {
     "name": "stdout",
     "output_type": "stream",
     "text": [
      "actual=0, predicted=0\n",
      "actual=0, predicted=0\n",
      "actual=0, predicted=0\n",
      "actual=0, predicted=0\n",
      "actual=0, predicted=0\n",
      "actual=1, predicted=1\n",
      "actual=1, predicted=1\n",
      "actual=1, predicted=1\n",
      "actual=1, predicted=1\n",
      "actual=1, predicted=1\n"
     ]
    }
   ],
   "source": [
    "for row in dataset:\n",
    "    prediction = predict(net, row)\n",
    "    print('actual=%d, predicted=%d' % (row[-1], prediction))"
   ]
  },
  {
   "cell_type": "code",
   "execution_count": null,
   "metadata": {},
   "outputs": [],
   "source": []
  }
 ],
 "metadata": {
  "kernelspec": {
   "display_name": "Python 3",
   "language": "python",
   "name": "python3"
  },
  "language_info": {
   "codemirror_mode": {
    "name": "ipython",
    "version": 3
   },
   "file_extension": ".py",
   "mimetype": "text/x-python",
   "name": "python",
   "nbconvert_exporter": "python",
   "pygments_lexer": "ipython3",
   "version": "3.6.10"
  }
 },
 "nbformat": 4,
 "nbformat_minor": 4
}
