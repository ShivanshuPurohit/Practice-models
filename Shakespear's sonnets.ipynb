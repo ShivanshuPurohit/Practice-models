{
  "nbformat": 4,
  "nbformat_minor": 0,
  "metadata": {
    "colab": {
      "name": "Sonnets",
      "provenance": [],
      "toc_visible": true,
      "authorship_tag": "ABX9TyOHEV1kiRrLwqTAjUzvybOT",
      "include_colab_link": true
    },
    "kernelspec": {
      "name": "python3",
      "display_name": "Python 3"
    },
    "accelerator": "TPU"
  },
  "cells": [
    {
      "cell_type": "markdown",
      "metadata": {
        "id": "view-in-github",
        "colab_type": "text"
      },
      "source": [
        "<a href=\"https://colab.research.google.com/github/ShivanshuPurohit/Practice-models/blob/master/Shakespear's%20sonnets.ipynb\" target=\"_parent\"><img src=\"https://colab.research.google.com/assets/colab-badge.svg\" alt=\"Open In Colab\"/></a>"
      ]
    },
    {
      "cell_type": "code",
      "metadata": {
        "id": "HZB5nyO2uGeu",
        "colab_type": "code",
        "colab": {}
      },
      "source": [
        "import numpy as np\n",
        "from keras.models import load_model\n",
        "import sys"
      ],
      "execution_count": 0,
      "outputs": []
    },
    {
      "cell_type": "code",
      "metadata": {
        "id": "_j4Kl5DbzS4R",
        "colab_type": "code",
        "outputId": "71de151e-20ab-4107-9204-aaea448928cb",
        "colab": {
          "base_uri": "https://localhost:8080/",
          "height": 271
        }
      },
      "source": [
        "def load_data(maxlen=25, step=3):\n",
        "    '''\n",
        "    Load in training text and vectorize it into 3D tensor\n",
        "    Args:\n",
        "        maxlen: Maximum length of sequence\n",
        "        step: Step size for sampling new sequence\n",
        "    Returns:\n",
        "        Numpy tensor of shape (samples, seq_len, num_chars)\n",
        "    '''\n",
        "    with open('sonnets.txt', 'r') as f:\n",
        "        data = f.read().lower()\n",
        "\n",
        "    sentences = []\n",
        "    targets = []\n",
        "    # Loop through sonnets and create sequences and associated targets\n",
        "    for i in range(0, len(data) - maxlen, step):\n",
        "        sentences.append(data[i:i + maxlen])\n",
        "        targets.append(data[maxlen + i])\n",
        "    # Grab all unique characters in corpus\n",
        "    chars = sorted(list(set(data)))\n",
        "\n",
        "    # Dictionary mapping unique character to integer indices\n",
        "    char_indices = dict((char, chars.index(char)) for char in chars)\n",
        "    return data, char_indices, chars\n",
        "\n",
        "\n",
        "def sample(preds, temperature=1.0):\n",
        "    '''\n",
        "    Reweight the predicted probabilities and draw sample from\n",
        "    newly created probability distribution\n",
        "    Args:\n",
        "        preds: Numpy array of character probabilities\n",
        "        temperature: Float representing randomness of reweighting probabilities\n",
        "                     Higher temp, more randomn. Lower temp, more deterministic\n",
        "    Returns:\n",
        "        Index of largest probability from reweighted probabilities\n",
        "    '''\n",
        "    preds = np.asarray(preds).astype('float64')\n",
        "    preds = np.log(preds) / temperature\n",
        "    exp_preds = np.exp(preds)\n",
        "    preds = exp_preds / np.sum(exp_preds)\n",
        "    probas = np.random.multinomial(1, preds, 1)\n",
        "    return np.argmax(probas)\n",
        "\n",
        "\n",
        "def generate_sonnet():\n",
        "    '''\n",
        "    Choose a random seed text and print 600 predicted characters to console\n",
        "    Args:\n",
        "        None\n",
        "    Returns:\n",
        "        600 characters printed to console\n",
        "    '''\n",
        "    # Max length of each sequence. Same as in Jupyter notebook\n",
        "    maxlen = 40\n",
        "    # Sample new sequence every step characters\n",
        "    step = 3\n",
        "    data, char_indices, chars = load_data(maxlen, step)\n",
        "\n",
        "    # Load model trained in Jupyter notebook\n",
        "    model = load_model('shakespeare_sonnet_model.h5')\n",
        "    # Choose random seed text\n",
        "    start_idx = np.random.randint(0, len(data) - maxlen - 1)\n",
        "    new_sonnet = data[start_idx:start_idx + maxlen]\n",
        "    sys.stdout.write(new_sonnet)\n",
        "    for i in range(600):\n",
        "        # Vectorize generated text\n",
        "        sampled = np.zeros((1, maxlen, len(chars)))\n",
        "        for j, char in enumerate(new_sonnet):\n",
        "            sampled[0, j, char_indices[char]] = 1.\n",
        "\n",
        "        # Predict next character\n",
        "        preds = model.predict(sampled, verbose=0)[0]\n",
        "        pred_idx = sample(preds, temperature=0.5)\n",
        "        next_char = chars[pred_idx]\n",
        "\n",
        "        # Append predicted character to seed text\n",
        "        new_sonnet += next_char\n",
        "        new_sonnet = new_sonnet[1:]\n",
        "\n",
        "        # Print to console\n",
        "        sys.stdout.write(next_char)\n",
        "        sys.stdout.flush()\n",
        "\n",
        "\n",
        "if __name__ == '__main__':\n",
        "    ''' Run main program '''\n",
        "    generate_sonnet()\n",
        "    print()"
      ],
      "execution_count": 0,
      "outputs": [
        {
          "output_type": "stream",
          "text": [
            "is lust in action: and till action, lust the brave the proughs wall the with farteres de my so now\n",
            "\n",
            "and stan the will the sire of love me bear,\n",
            "the are thy forle the ans thie beast steet.\n",
            "the ear the frow in thee the with my be to be.\n",
            "\n",
            "and in the strof have to but show the rears,\n",
            "and sting con love wher his thue word all hen my leave,\n",
            "your mare the sweet in where the live bear the prave,\n",
            "when when is his thing of the worth to shat the rear mare\n",
            "the of her as thou shath this what hat me no thee war sweet hade reass to ey,\n",
            "and wilt thou sen be our that his spire steel,\n",
            "and my more the wipl the will with and steet stire,\n",
            "and stare mare\n"
          ],
          "name": "stdout"
        }
      ]
    },
    {
      "cell_type": "code",
      "metadata": {
        "id": "fsT_M1WxzZbK",
        "colab_type": "code",
        "colab": {}
      },
      "source": [
        "import os\n",
        "import matplotlib.pyplot as plt"
      ],
      "execution_count": 0,
      "outputs": []
    },
    {
      "cell_type": "code",
      "metadata": {
        "id": "NHAORGSczp2Q",
        "colab_type": "code",
        "colab": {}
      },
      "source": [
        "%matplotlib inline\n",
        "np.random.seed(21)"
      ],
      "execution_count": 0,
      "outputs": []
    },
    {
      "cell_type": "code",
      "metadata": {
        "id": "J7pQyq3hz4wu",
        "colab_type": "code",
        "outputId": "aae1a89b-6f8c-400d-c54f-46cd2a2b12a5",
        "colab": {
          "base_uri": "https://localhost:8080/",
          "height": 35
        }
      },
      "source": [
        "with open('sonnets.txt','r') as f:\n",
        "  data = f.read().lower()\n",
        "print('Corpus length : %d characters' %len(data))"
      ],
      "execution_count": 0,
      "outputs": [
        {
          "output_type": "stream",
          "text": [
            "Corpus length : 94651 characters\n"
          ],
          "name": "stdout"
        }
      ]
    },
    {
      "cell_type": "code",
      "metadata": {
        "id": "IeA3zzJJ0UF-",
        "colab_type": "code",
        "outputId": "24e14100-e618-4580-88b3-c993fb85427c",
        "colab": {
          "base_uri": "https://localhost:8080/",
          "height": 639
        }
      },
      "source": [
        "#visualize character length\n",
        "sonnets = data.split('\\n\\n')\n",
        "sonnet_lens = [len(sonnet) for sonnet in sonnets]\n",
        "print('Average sonnet length: %.2f characters' % np.mean(sonnet_lens))\n",
        "\n",
        "plt.figure(figsize=(15,10))\n",
        "plt.bar([i for i in range(1,len(sonnets)+1)],sonnet_lens)\n",
        "plt.title('Number of Characters per sonnet')\n",
        "plt.ylabel('no. of Characters')\n",
        "plt.xlabel('Sonnets')\n",
        "plt.show()"
      ],
      "execution_count": 0,
      "outputs": [
        {
          "output_type": "stream",
          "text": [
            "Average sonnet length: 612.63 characters\n"
          ],
          "name": "stdout"
        },
        {
          "output_type": "display_data",
          "data": {
            "image/png": "[encoded data removed]",
            "text/plain": [
              "<Figure size 1080x720 with 1 Axes>"
            ]
          },
          "metadata": {
            "tags": []
          }
        }
      ]
    },
    {
      "cell_type": "code",
      "metadata": {
        "id": "xUuA1dlh1QhL",
        "colab_type": "code",
        "outputId": "8be34212-7970-471a-d6ba-32628c6047a9",
        "colab": {
          "base_uri": "https://localhost:8080/",
          "height": 53
        }
      },
      "source": [
        "#max length of each sentence\n",
        "maxlen = 40\n",
        "\n",
        "#sample new sequence ever step characters\n",
        "step = 3\n",
        "\n",
        "sentences=[]\n",
        "targets=[]\n",
        "\n",
        "#loop through sonnets and create new sequences and targets\n",
        "for i in range(0,len(data)-maxlen,step):\n",
        "  sentences.append(data[i:i+maxlen])\n",
        "  targets.append(data[maxlen+i])\n",
        "\n",
        "print(\"number of sequences: \",len(sentences))\n",
        "\n",
        "#grab all unique characters in corpus\n",
        "chars = sorted(list(set(data)))\n",
        "print(\"no. of unique characters: \",len(chars))\n",
        "\n",
        "#dictionary mapping unique characters to integer iindices\n",
        "char_indices = dict((char, chars.index(char)) for char in chars)"
      ],
      "execution_count": 0,
      "outputs": [
        {
          "output_type": "stream",
          "text": [
            "number of sequences:  31537\n",
            "no. of unique characters:  38\n"
          ],
          "name": "stdout"
        }
      ]
    },
    {
      "cell_type": "code",
      "metadata": {
        "id": "9PxwvxNR3Z39",
        "colab_type": "code",
        "outputId": "232483e6-8a98-4a58-b200-c0180823bc66",
        "colab": {
          "base_uri": "https://localhost:8080/",
          "height": 53
        }
      },
      "source": [
        "#vectorize sequences and targets\n",
        "x= np.zeros((len(sentences),maxlen,len(chars)),dtype=np.bool)\n",
        "y= np.zeros((len(sentences),len(chars)),dtype=np.bool)\n",
        "\n",
        "for i, sentence in enumerate(sentences):\n",
        "  for j, char in enumerate(sentence):\n",
        "    x[i,j,char_indices[char]]=1\n",
        "    y[i,char_indices[targets[i]]]=1\n",
        "\n",
        "print(\"Size of training sequences:\", x.shape)\n",
        "print(\"Size of training targets:\", y.shape)"
      ],
      "execution_count": 0,
      "outputs": [
        {
          "output_type": "stream",
          "text": [
            "Size of training sequences: (31537, 40, 38)\n",
            "Size of training targets: (31537, 38)\n"
          ],
          "name": "stdout"
        }
      ]
    },
    {
      "cell_type": "code",
      "metadata": {
        "id": "WlwmF2w84smD",
        "colab_type": "code",
        "outputId": "824c8346-c701-4973-f76a-d1c73adbd448",
        "colab": {
          "base_uri": "https://localhost:8080/",
          "height": 271
        }
      },
      "source": [
        "from keras.models import Sequential\n",
        "from keras.layers import Dense, LSTM\n",
        "\n",
        "model = Sequential()\n",
        "model.add(LSTM(256,return_sequences=True,input_shape=(maxlen,len(chars))))\n",
        "model.add(LSTM(64,input_shape=(maxlen,len(chars))))\n",
        "model.add(Dense(len(chars),activation='softmax'))\n",
        "model.summary()"
      ],
      "execution_count": 0,
      "outputs": [
        {
          "output_type": "stream",
          "text": [
            "Model: \"sequential_9\"\n",
            "_________________________________________________________________\n",
            "Layer (type)                 Output Shape              Param #   \n",
            "=================================================================\n",
            "lstm_4 (LSTM)                (None, 40, 256)           302080    \n",
            "_________________________________________________________________\n",
            "lstm_5 (LSTM)                (None, 64)                82176     \n",
            "_________________________________________________________________\n",
            "dense_2 (Dense)              (None, 38)                2470      \n",
            "=================================================================\n",
            "Total params: 386,726\n",
            "Trainable params: 386,726\n",
            "Non-trainable params: 0\n",
            "_________________________________________________________________\n"
          ],
          "name": "stdout"
        }
      ]
    },
    {
      "cell_type": "code",
      "metadata": {
        "id": "Kfskslwe5dfj",
        "colab_type": "code",
        "colab": {}
      },
      "source": [
        "from keras.optimizers import SGD\n",
        "optimizer = SGD(lr=0.01,momentum =0.9,nesterov=True)\n",
        "model.compile(optimizer=optimizer,loss='categorical_crossentropy')"
      ],
      "execution_count": 0,
      "outputs": []
    },
    {
      "cell_type": "code",
      "metadata": {
        "id": "M3eay97Y6F6V",
        "colab_type": "code",
        "colab": {}
      },
      "source": [
        "def samples(preds,temperature=1.0):\n",
        "  preds=np.asarray(preds).astype('float64')\n",
        "  preds=np.log(preds)/temperature\n",
        "  exp_preds = np.exp(preds)\n",
        "  preds=exp_preds/np.sum(exp_preds)\n",
        "  probas=np.random.multinomial(1,preds,1)\n",
        "  return np.argmax(probas)"
      ],
      "execution_count": 0,
      "outputs": []
    },
    {
      "cell_type": "code",
      "metadata": {
        "id": "KbyvfvYq67xU",
        "colab_type": "code",
        "outputId": "304315a4-f165-422a-9e78-22237a1610b3",
        "colab": {
          "base_uri": "https://localhost:8080/",
          "height": 1000
        }
      },
      "source": [
        "epochs = 40\n",
        "\n",
        "loss = []  # Custom history list to save model's loss\n",
        "\n",
        "# Create directory to store generated text\n",
        "base_dir = 'generated_text'\n",
        "if not os.path.isdir(base_dir):\n",
        "    os.mkdir(base_dir)\n",
        "\n",
        "for epoch in range(1, epochs+1):\n",
        "    print(\"Epoch\", epoch)\n",
        "    # Fit model for 1 epoch then generate text given a seed.\n",
        "    history = model.fit(x, y, batch_size=128, epochs=1)\n",
        "    loss.append(history.history['loss'][0])\n",
        "    \n",
        "    # Create directory to store text for each epoch\n",
        "    epoch_dir = os.path.join(base_dir, 'epoch_' + str(epoch))\n",
        "    if not os.path.isdir(epoch_dir):\n",
        "        os.mkdir(epoch_dir)\n",
        "    \n",
        "    # Select a random seed text to feed into model and generate text\n",
        "    start_idx = np.random.randint(0, len(data) - maxlen - 1)\n",
        "    seed_text = data[start_idx:start_idx + maxlen]\n",
        "    for temp in [0.2, 0.5, 1.0, 1.3]:\n",
        "        generated_text = seed_text\n",
        "        temp_file = 'epoch' + str(epoch) + '_temp' + str(temp) + '.txt'\n",
        "        file = open(os.path.join(epoch_dir, temp_file), 'w')\n",
        "        file.write(generated_text)\n",
        "        \n",
        "        # Predict and generate 600 characters (approx. 1 sonnet length)\n",
        "        for i in range(600):\n",
        "            # Vectorize generated text\n",
        "            sampled = np.zeros((1, maxlen, len(chars)))\n",
        "            for j, char in enumerate(generated_text):\n",
        "                sampled[0, j, char_indices[char]] = 1.\n",
        "            \n",
        "            # Predict next character\n",
        "            preds = model.predict(sampled, verbose=0)[0]\n",
        "            pred_idx = sample(preds, temperature=temp)\n",
        "            next_char = chars[pred_idx]\n",
        "            \n",
        "            # Append predicted character to seed text\n",
        "            generated_text += next_char\n",
        "            generated_text = generated_text[1:]\n",
        "            \n",
        "            # Write to text file\n",
        "            file.write(next_char)\n",
        "        print('Temp ' + str(temp) + \" done.\")\n",
        "        file.close()"
      ],
      "execution_count": 0,
      "outputs": [
        {
          "output_type": "stream",
          "text": [
            "Epoch 1\n",
            "Epoch 1/1\n",
            "31537/31537 [==============================] - 124s 4ms/step - loss: 3.1190\n",
            "Temp 0.2 done.\n",
            "Temp 0.5 done.\n",
            "Temp 1.0 done.\n",
            "Temp 1.3 done.\n",
            "Epoch 2\n",
            "Epoch 1/1\n",
            "31537/31537 [==============================] - 122s 4ms/step - loss: 3.0105\n",
            "Temp 0.2 done.\n",
            "Temp 0.5 done.\n",
            "Temp 1.0 done.\n",
            "Temp 1.3 done.\n",
            "Epoch 3\n",
            "Epoch 1/1\n",
            "31537/31537 [==============================] - 123s 4ms/step - loss: 3.0072\n",
            "Temp 0.2 done.\n",
            "Temp 0.5 done.\n",
            "Temp 1.0 done.\n",
            "Temp 1.3 done.\n",
            "Epoch 4\n",
            "Epoch 1/1\n",
            "31537/31537 [==============================] - 122s 4ms/step - loss: 3.0061\n",
            "Temp 0.2 done.\n",
            "Temp 0.5 done.\n",
            "Temp 1.0 done.\n",
            "Temp 1.3 done.\n",
            "Epoch 5\n",
            "Epoch 1/1\n",
            "31537/31537 [==============================] - 122s 4ms/step - loss: 3.0053\n",
            "Temp 0.2 done.\n",
            "Temp 0.5 done.\n",
            "Temp 1.0 done.\n",
            "Temp 1.3 done.\n",
            "Epoch 6\n",
            "Epoch 1/1\n",
            "31537/31537 [==============================] - 122s 4ms/step - loss: 3.0046\n",
            "Temp 0.2 done.\n",
            "Temp 0.5 done.\n",
            "Temp 1.0 done.\n",
            "Temp 1.3 done.\n",
            "Epoch 7\n",
            "Epoch 1/1\n",
            "31537/31537 [==============================] - 122s 4ms/step - loss: 3.0029\n",
            "Temp 0.2 done.\n",
            "Temp 0.5 done.\n",
            "Temp 1.0 done.\n",
            "Temp 1.3 done.\n",
            "Epoch 8\n",
            "Epoch 1/1\n",
            "31537/31537 [==============================] - 122s 4ms/step - loss: 3.0017\n",
            "Temp 0.2 done.\n",
            "Temp 0.5 done.\n",
            "Temp 1.0 done.\n",
            "Temp 1.3 done.\n",
            "Epoch 9\n",
            "Epoch 1/1\n",
            "31537/31537 [==============================] - 122s 4ms/step - loss: 2.9990\n",
            "Temp 0.2 done.\n",
            "Temp 0.5 done.\n",
            "Temp 1.0 done.\n",
            "Temp 1.3 done.\n",
            "Epoch 10\n",
            "Epoch 1/1\n",
            "31537/31537 [==============================] - 122s 4ms/step - loss: 2.9966\n",
            "Temp 0.2 done.\n",
            "Temp 0.5 done.\n",
            "Temp 1.0 done.\n",
            "Temp 1.3 done.\n",
            "Epoch 11\n",
            "Epoch 1/1\n",
            "31537/31537 [==============================] - 122s 4ms/step - loss: 2.9917\n",
            "Temp 0.2 done.\n",
            "Temp 0.5 done.\n",
            "Temp 1.0 done.\n",
            "Temp 1.3 done.\n",
            "Epoch 12\n",
            "Epoch 1/1\n",
            "31537/31537 [==============================] - 122s 4ms/step - loss: 2.9844\n",
            "Temp 0.2 done.\n",
            "Temp 0.5 done.\n",
            "Temp 1.0 done.\n",
            "Temp 1.3 done.\n",
            "Epoch 13\n",
            "Epoch 1/1\n",
            "31537/31537 [==============================] - 122s 4ms/step - loss: 2.9715\n",
            "Temp 0.2 done.\n",
            "Temp 0.5 done.\n",
            "Temp 1.0 done.\n",
            "Temp 1.3 done.\n",
            "Epoch 14\n",
            "Epoch 1/1\n",
            "31537/31537 [==============================] - 122s 4ms/step - loss: 2.9491\n",
            "Temp 0.2 done.\n",
            "Temp 0.5 done.\n",
            "Temp 1.0 done.\n",
            "Temp 1.3 done.\n",
            "Epoch 15\n",
            "Epoch 1/1\n",
            "31537/31537 [==============================] - 123s 4ms/step - loss: 2.9080\n",
            "Temp 0.2 done.\n",
            "Temp 0.5 done.\n",
            "Temp 1.0 done.\n",
            "Temp 1.3 done.\n",
            "Epoch 16\n",
            "Epoch 1/1\n",
            "31537/31537 [==============================] - 123s 4ms/step - loss: 2.8618\n",
            "Temp 0.2 done.\n",
            "Temp 0.5 done.\n",
            "Temp 1.0 done.\n",
            "Temp 1.3 done.\n",
            "Epoch 17\n",
            "Epoch 1/1\n",
            "31537/31537 [==============================] - 123s 4ms/step - loss: 2.8247\n",
            "Temp 0.2 done.\n",
            "Temp 0.5 done.\n",
            "Temp 1.0 done.\n",
            "Temp 1.3 done.\n",
            "Epoch 18\n",
            "Epoch 1/1\n",
            "31537/31537 [==============================] - 123s 4ms/step - loss: 2.7916\n",
            "Temp 0.2 done.\n",
            "Temp 0.5 done.\n",
            "Temp 1.0 done.\n",
            "Temp 1.3 done.\n",
            "Epoch 19\n",
            "Epoch 1/1\n",
            "31537/31537 [==============================] - 123s 4ms/step - loss: 2.7623\n",
            "Temp 0.2 done.\n",
            "Temp 0.5 done.\n",
            "Temp 1.0 done.\n",
            "Temp 1.3 done.\n",
            "Epoch 20\n",
            "Epoch 1/1\n",
            "31537/31537 [==============================] - 122s 4ms/step - loss: 2.7304\n",
            "Temp 0.2 done.\n",
            "Temp 0.5 done.\n",
            "Temp 1.0 done.\n",
            "Temp 1.3 done.\n",
            "Epoch 21\n",
            "Epoch 1/1\n",
            "31537/31537 [==============================] - 122s 4ms/step - loss: 2.6939\n",
            "Temp 0.2 done.\n",
            "Temp 0.5 done.\n",
            "Temp 1.0 done.\n",
            "Temp 1.3 done.\n",
            "Epoch 22\n",
            "Epoch 1/1\n",
            "31537/31537 [==============================] - 122s 4ms/step - loss: 2.6441\n",
            "Temp 0.2 done.\n",
            "Temp 0.5 done.\n",
            "Temp 1.0 done.\n",
            "Temp 1.3 done.\n",
            "Epoch 23\n",
            "Epoch 1/1\n",
            "31537/31537 [==============================] - 121s 4ms/step - loss: 2.5835\n",
            "Temp 0.2 done.\n",
            "Temp 0.5 done.\n",
            "Temp 1.0 done.\n",
            "Temp 1.3 done.\n",
            "Epoch 24\n",
            "Epoch 1/1\n",
            "31537/31537 [==============================] - 121s 4ms/step - loss: 2.5234\n",
            "Temp 0.2 done.\n",
            "Temp 0.5 done.\n",
            "Temp 1.0 done.\n",
            "Temp 1.3 done.\n",
            "Epoch 25\n",
            "Epoch 1/1\n",
            "31537/31537 [==============================] - 121s 4ms/step - loss: 2.4790\n",
            "Temp 0.2 done.\n",
            "Temp 0.5 done.\n",
            "Temp 1.0 done.\n",
            "Temp 1.3 done.\n",
            "Epoch 26\n",
            "Epoch 1/1\n",
            "31537/31537 [==============================] - 121s 4ms/step - loss: 2.4434\n",
            "Temp 0.2 done.\n",
            "Temp 0.5 done.\n",
            "Temp 1.0 done.\n",
            "Temp 1.3 done.\n",
            "Epoch 27\n",
            "Epoch 1/1\n",
            "31537/31537 [==============================] - 121s 4ms/step - loss: 2.4152\n",
            "Temp 0.2 done.\n",
            "Temp 0.5 done.\n",
            "Temp 1.0 done.\n",
            "Temp 1.3 done.\n",
            "Epoch 28\n",
            "Epoch 1/1\n",
            "31537/31537 [==============================] - 121s 4ms/step - loss: 2.3841\n",
            "Temp 0.2 done.\n",
            "Temp 0.5 done.\n",
            "Temp 1.0 done.\n",
            "Temp 1.3 done.\n",
            "Epoch 29\n",
            "Epoch 1/1\n",
            "31537/31537 [==============================] - 122s 4ms/step - loss: 2.3613\n",
            "Temp 0.2 done.\n",
            "Temp 0.5 done.\n",
            "Temp 1.0 done.\n",
            "Temp 1.3 done.\n",
            "Epoch 30\n",
            "Epoch 1/1\n",
            "31537/31537 [==============================] - 122s 4ms/step - loss: 2.3384\n",
            "Temp 0.2 done.\n",
            "Temp 0.5 done.\n",
            "Temp 1.0 done.\n",
            "Temp 1.3 done.\n",
            "Epoch 31\n",
            "Epoch 1/1\n",
            "31537/31537 [==============================] - 122s 4ms/step - loss: 2.3146\n",
            "Temp 0.2 done.\n",
            "Temp 0.5 done.\n",
            "Temp 1.0 done.\n",
            "Temp 1.3 done.\n",
            "Epoch 32\n",
            "Epoch 1/1\n",
            "31537/31537 [==============================] - 122s 4ms/step - loss: 2.2943\n",
            "Temp 0.2 done.\n",
            "Temp 0.5 done.\n",
            "Temp 1.0 done.\n",
            "Temp 1.3 done.\n",
            "Epoch 33\n",
            "Epoch 1/1\n",
            "31537/31537 [==============================] - 122s 4ms/step - loss: 2.2751\n",
            "Temp 0.2 done.\n",
            "Temp 0.5 done.\n",
            "Temp 1.0 done.\n",
            "Temp 1.3 done.\n",
            "Epoch 34\n",
            "Epoch 1/1\n",
            "31537/31537 [==============================] - 122s 4ms/step - loss: 2.2518\n",
            "Temp 0.2 done.\n",
            "Temp 0.5 done.\n",
            "Temp 1.0 done.\n",
            "Temp 1.3 done.\n",
            "Epoch 35\n",
            "Epoch 1/1\n",
            "31537/31537 [==============================] - 122s 4ms/step - loss: 2.2314\n",
            "Temp 0.2 done.\n",
            "Temp 0.5 done.\n",
            "Temp 1.0 done.\n",
            "Temp 1.3 done.\n",
            "Epoch 36\n",
            "Epoch 1/1\n",
            "31537/31537 [==============================] - 122s 4ms/step - loss: 2.2097\n",
            "Temp 0.2 done.\n",
            "Temp 0.5 done.\n",
            "Temp 1.0 done.\n",
            "Temp 1.3 done.\n",
            "Epoch 37\n",
            "Epoch 1/1\n",
            "31537/31537 [==============================] - 122s 4ms/step - loss: 2.1880\n",
            "Temp 0.2 done.\n",
            "Temp 0.5 done.\n",
            "Temp 1.0 done.\n",
            "Temp 1.3 done.\n",
            "Epoch 38\n",
            "Epoch 1/1\n",
            "31537/31537 [==============================] - 122s 4ms/step - loss: 2.1682\n",
            "Temp 0.2 done.\n",
            "Temp 0.5 done.\n",
            "Temp 1.0 done.\n",
            "Temp 1.3 done.\n",
            "Epoch 39\n",
            "Epoch 1/1\n",
            "31537/31537 [==============================] - 121s 4ms/step - loss: 2.1464\n",
            "Temp 0.2 done.\n",
            "Temp 0.5 done.\n",
            "Temp 1.0 done.\n",
            "Temp 1.3 done.\n",
            "Epoch 40\n",
            "Epoch 1/1\n",
            "31537/31537 [==============================] - 123s 4ms/step - loss: 2.1292\n",
            "Temp 0.2 done.\n",
            "Temp 0.5 done.\n",
            "Temp 1.0 done.\n",
            "Temp 1.3 done.\n"
          ],
          "name": "stdout"
        }
      ]
    },
    {
      "cell_type": "code",
      "metadata": {
        "id": "VgkDaxlh_PNs",
        "colab_type": "code",
        "colab": {}
      },
      "source": [
        "def generate_sonnet(temp):\n",
        "  start_idx = np.random.randint(0,len(data)-maxlen-1)\n",
        "  new_sonnet=data[start_idx:start_idx+maxlen]\n",
        "  sys.stdout.write(new_sonnet)\n",
        "  \n",
        "  for i in range(600):\n",
        "    sampled = np.zeros((1,maxlen,len(chars)))\n",
        "    for j,char in enumerate(new_sonnet):\n",
        "      sampled[0,j,char_indices[char]]=1\n",
        "\n",
        "    preds = model.predict(sampled,verbose=0)[0]\n",
        "    pred_idx = sample(preds, temperature=temp)\n",
        "    next_char = chars[pred_idx]\n",
        "\n",
        "    new_sonnet += next_char\n",
        "    new_sonnet = new_sonnet[1:]\n",
        "    sys.stdout.write(next_char)\n",
        "    sys.stdout.flush()"
      ],
      "execution_count": 0,
      "outputs": []
    },
    {
      "cell_type": "code",
      "metadata": {
        "id": "W6zs9nXeZAT_",
        "colab_type": "code",
        "outputId": "5c5f5f0e-8d34-470d-87ad-e3e7e44db67f",
        "colab": {
          "base_uri": "https://localhost:8080/",
          "height": 271
        }
      },
      "source": [
        "generate_sonnet(0.5)"
      ],
      "execution_count": 0,
      "outputs": [
        {
          "output_type": "stream",
          "text": [
            " mind:\n",
            "look! what an unthrift in the worllves'ding,\n",
            "i whou so lat meserave peacist thee bides these whale\n",
            "in dade southes in thee ofneur to lose,\n",
            "the mathy theurores thouthes thou fothet beingeling,\n",
            "  fat mins so toue wath thou thige sele wertere,\n",
            "mat or me thee tine nome sereerored theres cheer weres pove,\n",
            "that thels hesen though tron soulce crace\n",
            "to the afeling thee thees on thou bethese are woree,\n",
            "whis the sore in thing four iby thee sores thee freing,\n",
            "thouch thou meoferes there thy yons thy irresthet these,\n",
            "on berires tin the is in the for thee forethen ande-me thee home,\n",
            "arane than thou tho leartes thear, and meithen\n",
            "sath the m"
          ],
          "name": "stdout"
        }
      ]
    },
    {
      "cell_type": "code",
      "metadata": {
        "id": "YWuczTtCZD5j",
        "colab_type": "code",
        "outputId": "5f307340-368a-4de8-b0fe-f4434069f73f",
        "colab": {
          "base_uri": "https://localhost:8080/",
          "height": 235
        }
      },
      "source": [
        "generate_sonnet(0.2)"
      ],
      "execution_count": 0,
      "outputs": [
        {
          "output_type": "stream",
          "text": [
            ".\n",
            "o! change thy thought, that i may changeres the mererereres thee more,\n",
            "where theus the the mereres the the moult,\n",
            "   and the mere the the the sore thee there,\n",
            "the sore the thee the the souther the thee there,\n",
            "whin the sore the mereres the theur thee beart,\n",
            "thou the theast the sore thou the there,\n",
            "and the the thee the in the sore the mereres the mother thee,\n",
            "the sore the sore the the sore the shathes there the meatheres and thee whoughes thee thee thee thee,\n",
            "the the sore the mereres the mase the mererest the sore,\n",
            "what the southeres thou the the sore thee thee thee theare,\n",
            "the sale the the sore the mealt the shearteres thee anderes"
          ],
          "name": "stdout"
        }
      ]
    },
    {
      "cell_type": "code",
      "metadata": {
        "id": "ghWTGcwzZJRq",
        "colab_type": "code",
        "colab": {}
      },
      "source": [
        "model.save('Shakespeare_sonnets.h5')"
      ],
      "execution_count": 0,
      "outputs": []
    },
    {
      "cell_type": "code",
      "metadata": {
        "id": "pCQhaCVbZYf3",
        "colab_type": "code",
        "colab": {}
      },
      "source": [
        ""
      ],
      "execution_count": 0,
      "outputs": []
    }
  ]
}